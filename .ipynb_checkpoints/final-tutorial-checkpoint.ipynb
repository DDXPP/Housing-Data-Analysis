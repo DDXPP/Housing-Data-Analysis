{
 "cells": [
  {
   "cell_type": "code",
   "execution_count": 1,
   "metadata": {},
   "outputs": [],
   "source": [
    "#Nur did this, you're welcome <3\n",
    "#Naman loves y'all ;)  \n",
    "import pandas\n",
    "import matplotlib"
   ]
  },
  {
   "cell_type": "markdown",
   "metadata": {},
   "source": [
    "## About the project:\n",
    "\n",
    "The goal of this project is to create a tutorial for Data Science by performing essential DS pipeline steps on real data. We are using Affordable Housing data throughout the USA to show how the Data Science Pipeline can be used to attain useful information and make reasonable comparisions and conclusions. For example, we can find out what racial or age demographic inhibits these affordable apartments and use our historical knowledge to make reasonable assumption about these housing initiatives. This is also a tutorial of how evidence found in the data pipeline can be used conclusively, and our plan is to show that by cleaning, analysing and medling our Affordable housing data in this project.\n"
   ]
  },
  {
   "cell_type": "code",
   "execution_count": null,
   "metadata": {},
   "outputs": [],
   "source": []
  }
 ],
 "metadata": {
  "kernelspec": {
   "display_name": "Python 3",
   "language": "python",
   "name": "python3"
  },
  "language_info": {
   "codemirror_mode": {
    "name": "ipython",
    "version": 3
   },
   "file_extension": ".py",
   "mimetype": "text/x-python",
   "name": "python",
   "nbconvert_exporter": "python",
   "pygments_lexer": "ipython3",
   "version": "3.8.5"
  }
 },
 "nbformat": 4,
 "nbformat_minor": 5
}
